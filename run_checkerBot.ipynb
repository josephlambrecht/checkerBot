{
 "cells": [
  {
   "cell_type": "code",
   "execution_count": 1,
   "metadata": {},
   "outputs": [],
   "source": [
    "import core.loader as checkers\n",
    "from core.io import from_square, to_square\n",
    "game = checkers.game()\n"
   ]
  },
  {
   "cell_type": "code",
   "execution_count": 2,
   "metadata": {},
   "outputs": [
    {
     "name": "stdout",
     "output_type": "stream",
     "text": [
      "   h  g  f  e  d  c  b                                               a\n",
      "1  0  0  0  0  0  0  0  <core.loader.man object at 0x000001ED5C1891F0>\n",
      "2  0  0  0  0  0  0  0                                               0\n",
      "3  0  0  0  0  0  0  0                                               0\n",
      "4  0  0  0  0  0  0  0                                               0\n",
      "5  0  0  0  0  0  0  0                                               0\n",
      "6  0  0  0  0  0  0  0                                               0\n",
      "7  0  0  0  0  0  0  0                                               0\n",
      "8  0  0  0  0  0  0  0                                               0\n"
     ]
    }
   ],
   "source": [
    "game.show_board()"
   ]
  },
  {
   "cell_type": "code",
   "execution_count": 3,
   "metadata": {},
   "outputs": [
    {
     "name": "stdout",
     "output_type": "stream",
     "text": [
      "6 7\n"
     ]
    },
    {
     "data": {
      "text/plain": [
       "[(7, 6), (5, 6)]"
      ]
     },
     "execution_count": 3,
     "metadata": {},
     "output_type": "execute_result"
    }
   ],
   "source": [
    "game.add_man(*from_square('a7'),\"black\",True)\n",
    "game.board.iloc[6,7].possible_moves(game.board,6,7)"
   ]
  }
 ],
 "metadata": {
  "kernelspec": {
   "display_name": "Python 3.8.8 ('base')",
   "language": "python",
   "name": "python3"
  },
  "language_info": {
   "codemirror_mode": {
    "name": "ipython",
    "version": 3
   },
   "file_extension": ".py",
   "mimetype": "text/x-python",
   "name": "python",
   "nbconvert_exporter": "python",
   "pygments_lexer": "ipython3",
   "version": "3.8.8"
  },
  "orig_nbformat": 4,
  "vscode": {
   "interpreter": {
    "hash": "137e79a492197b4639bd6e81e44f2207107b6c9c141551dcd4fa76c66c886a15"
   }
  }
 },
 "nbformat": 4,
 "nbformat_minor": 2
}
