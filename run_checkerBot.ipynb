{
 "cells": [
  {
   "cell_type": "code",
   "execution_count": 1,
   "metadata": {},
   "outputs": [],
   "source": [
    "import core.loader as checkers\n",
    "from core.io import from_square, to_square\n",
    "import core.checkers as brain"
   ]
  },
  {
   "cell_type": "code",
   "execution_count": null,
   "metadata": {},
   "outputs": [],
   "source": [
    "# game.show_board()"
   ]
  },
  {
   "cell_type": "code",
   "execution_count": 2,
   "metadata": {},
   "outputs": [
    {
     "name": "stdout",
     "output_type": "stream",
     "text": [
      "You are white- checkerBot moves first!\n",
      "   h  g  f  e  d  c  b  a\n",
      "1  0  0  0  0  0  0  0  0\n",
      "2  0  0  0  0  0  0  0  0\n",
      "3  0  0  0  0  0  w  0  0\n",
      "4  0  0  0  0  0  0  0  0\n",
      "5  0  0  0  0  0  w  0  0\n",
      "6  b  0  b  0  b  0  b  0\n",
      "7  0  b  0  b  0  b  0  b\n",
      "8  b  0  b  0  b  0  b  0\n"
     ]
    }
   ],
   "source": [
    "#starting board\n",
    "game = checkers.game()\n",
    "for s in ['a1','c1','e1','g1','b2','d2','f2','h2','a3','c3','e3','g3']:\n",
    "    game.add_man(*from_square(s),\"white\")\n",
    "for s in ['h8','f8','d8','b8','g7','e7','c7','a7','h6','f6','d6','b6']:\n",
    "    game.add_man(*from_square(s),\"black\")\n",
    "print(\"You are white- checkerBot moves first!\")\n",
    "game.show_board()"
   ]
  },
  {
   "cell_type": "code",
   "execution_count": 3,
   "metadata": {},
   "outputs": [
    {
     "name": "stdout",
     "output_type": "stream",
     "text": [
      "['d6xb4xd2', 'b6xd4xb2']\n",
      "checkerBot's move: d6xb4xd2\n",
      "   h  g  f  e  d  c  b  a\n",
      "1  0  0  0  0  0  0  0  0\n",
      "2  0  0  0  0  b  0  0  0\n",
      "3  0  0  0  0  0  0  0  0\n",
      "4  0  0  0  0  0  0  0  0\n",
      "5  0  0  0  0  0  0  0  0\n",
      "6  b  0  b  0  0  0  b  0\n",
      "7  0  b  0  b  0  b  0  b\n",
      "8  b  0  b  0  b  0  b  0\n",
      "your move options: []\n"
     ]
    }
   ],
   "source": [
    "moves = game.possible_moves('black')\n",
    "move = brain.evaluate_moves(moves)\n",
    "print(\"checkerBot's move:\",move)\n",
    "game.make_move(move)\n",
    "game.show_board()\n",
    "moves = game.possible_moves('white')\n",
    "print(\"your move options:\",moves)"
   ]
  },
  {
   "cell_type": "code",
   "execution_count": null,
   "metadata": {},
   "outputs": [],
   "source": [
    "game.make_move('g3-f4')\n",
    "moves = game.possible_moves('black')\n",
    "move = brain.evaluate_moves(moves)\n",
    "print(\"checkerBot's move:\",move)\n",
    "game.make_move(move)\n",
    "game.show_board()\n",
    "moves = game.possible_moves('white')\n",
    "print(\"your move options:\",moves)"
   ]
  },
  {
   "cell_type": "code",
   "execution_count": null,
   "metadata": {},
   "outputs": [],
   "source": [
    "game.make_move('g3-h4')\n",
    "moves = game.possible_moves('black')\n",
    "move = brain.evaluate_moves(moves)\n",
    "print(\"checkerBot's move:\",move)\n",
    "game.make_move(move)\n",
    "game.show_board()\n",
    "moves = game.possible_moves('white')\n",
    "print(\"your move options:\",moves)"
   ]
  }
 ],
 "metadata": {
  "kernelspec": {
   "display_name": "Python 3.8.8 ('base')",
   "language": "python",
   "name": "python3"
  },
  "language_info": {
   "codemirror_mode": {
    "name": "ipython",
    "version": 3
   },
   "file_extension": ".py",
   "mimetype": "text/x-python",
   "name": "python",
   "nbconvert_exporter": "python",
   "pygments_lexer": "ipython3",
   "version": "3.8.8"
  },
  "orig_nbformat": 4,
  "vscode": {
   "interpreter": {
    "hash": "137e79a492197b4639bd6e81e44f2207107b6c9c141551dcd4fa76c66c886a15"
   }
  }
 },
 "nbformat": 4,
 "nbformat_minor": 2
}
