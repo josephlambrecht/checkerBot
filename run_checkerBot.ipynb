{
 "cells": [
  {
   "cell_type": "code",
   "execution_count": 9,
   "metadata": {},
   "outputs": [],
   "source": [
    "import core.loader as checkers\n",
    "from core.io import from_square, to_square\n",
    "game = checkers.game()\n"
   ]
  },
  {
   "cell_type": "code",
   "execution_count": 10,
   "metadata": {},
   "outputs": [],
   "source": [
    "# game.show_board()"
   ]
  },
  {
   "cell_type": "code",
   "execution_count": 11,
   "metadata": {},
   "outputs": [
    {
     "name": "stdout",
     "output_type": "stream",
     "text": [
      "   a  b  c  d  e  f  g  h\n",
      "8  0  b  0  b  0  b  0  b\n",
      "7  b  0  b  0  b  0  b  0\n",
      "6  0  b  0  b  0  b  0  b\n",
      "5  0  0  0  0  0  0  0  0\n",
      "4  0  0  0  0  0  0  0  0\n",
      "3  w  0  w  0  w  0  w  0\n",
      "2  0  w  0  w  0  w  0  w\n",
      "1  w  0  w  0  w  0  w  0\n"
     ]
    }
   ],
   "source": [
    "#starting board\n",
    "for s in ['a1','c1','e1','g1','b2','d2','f2','h2','a3','c3','e3','g3']:\n",
    "    game.add_man(*from_square(s),\"white\")\n",
    "for s in ['h8','f8','d8','b8','g7','e7','c7','a7','h6','f6','d6','b6']:\n",
    "    game.add_man(*from_square(s),\"black\")\n",
    "game.show_board(color='white')"
   ]
  },
  {
   "cell_type": "code",
   "execution_count": 12,
   "metadata": {},
   "outputs": [
    {
     "name": "stdout",
     "output_type": "stream",
     "text": [
      "moves {'h6': ['g5'], 'f6': ['e5', 'g5'], 'd6': ['c5', 'e5'], 'b6': ['a5', 'c5']}\n",
      "   h  g  f  e  d  c  b  a\n",
      "1  0  w  0  w  0  w  0  w\n",
      "2  w  0  w  0  w  0  w  0\n",
      "3  0  w  0  w  0  w  0  w\n",
      "4  0  0  0  0  0  0  0  0\n",
      "5  0  0  0  0  0  0  0  0\n",
      "6  b  0  b  0  b  0  b  0\n",
      "7  0  b  0  b  0  b  0  b\n",
      "8  b  0  b  0  b  0  b  0\n"
     ]
    }
   ],
   "source": [
    "moves = game.possible_moves('black')\n",
    "print(\"moves\",moves)\n",
    "game.show_board()"
   ]
  },
  {
   "cell_type": "code",
   "execution_count": 13,
   "metadata": {},
   "outputs": [
    {
     "ename": "NameError",
     "evalue": "name 'evaluate_moves' is not defined",
     "output_type": "error",
     "traceback": [
      "\u001b[1;31m---------------------------------------------------------------------------\u001b[0m",
      "\u001b[1;31mNameError\u001b[0m                                 Traceback (most recent call last)",
      "\u001b[1;32m<ipython-input-13-5c0723db5b25>\u001b[0m in \u001b[0;36m<module>\u001b[1;34m\u001b[0m\n\u001b[0;32m      1\u001b[0m \u001b[1;32mimport\u001b[0m \u001b[0mcore\u001b[0m\u001b[1;33m.\u001b[0m\u001b[0mcheckers\u001b[0m\u001b[1;33m\u001b[0m\u001b[1;33m\u001b[0m\u001b[0m\n\u001b[1;32m----> 2\u001b[1;33m \u001b[0mevaluate_moves\u001b[0m\u001b[1;33m(\u001b[0m\u001b[0mmoves\u001b[0m\u001b[1;33m)\u001b[0m\u001b[1;33m\u001b[0m\u001b[1;33m\u001b[0m\u001b[0m\n\u001b[0m",
      "\u001b[1;31mNameError\u001b[0m: name 'evaluate_moves' is not defined"
     ]
    }
   ],
   "source": [
    "import core.checkers as brain\n",
    "brain.evaluate_moves(moves)"
   ]
  }
 ],
 "metadata": {
  "kernelspec": {
   "display_name": "Python 3.8.8 ('base')",
   "language": "python",
   "name": "python3"
  },
  "language_info": {
   "codemirror_mode": {
    "name": "ipython",
    "version": 3
   },
   "file_extension": ".py",
   "mimetype": "text/x-python",
   "name": "python",
   "nbconvert_exporter": "python",
   "pygments_lexer": "ipython3",
   "version": "3.8.8"
  },
  "orig_nbformat": 4,
  "vscode": {
   "interpreter": {
    "hash": "137e79a492197b4639bd6e81e44f2207107b6c9c141551dcd4fa76c66c886a15"
   }
  }
 },
 "nbformat": 4,
 "nbformat_minor": 2
}
